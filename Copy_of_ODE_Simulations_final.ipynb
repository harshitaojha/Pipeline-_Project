{
  "nbformat": 4,
  "nbformat_minor": 0,
  "metadata": {
    "colab": {
      "name": "Copy of ODE Simulations_final",
      "provenance": [],
      "collapsed_sections": [],
      "include_colab_link": true
    },
    "kernelspec": {
      "name": "python3",
      "display_name": "Python 3"
    },
    "language_info": {
      "name": "python"
    },
    "accelerator": "TPU"
  },
  "cells": [
    {
      "cell_type": "markdown",
      "metadata": {
        "id": "view-in-github",
        "colab_type": "text"
      },
      "source": [
        "<a href=\"https://colab.research.google.com/github/harshitaojha/Pipeline-_Project/blob/main/Copy_of_ODE_Simulations_final.ipynb\" target=\"_parent\"><img src=\"https://colab.research.google.com/assets/colab-badge.svg\" alt=\"Open In Colab\"/></a>"
      ]
    },
    {
      "cell_type": "code",
      "metadata": {
        "id": "0CNWnfyjgKNd"
      },
      "source": [
        "import matplotlib\n",
        "matplotlib.use('tkagg')"
      ],
      "execution_count": null,
      "outputs": []
    },
    {
      "cell_type": "code",
      "metadata": {
        "id": "8GbTfFvQIqYE"
      },
      "source": [
        "import numpy as np\n",
        "import scipy.integrate as spi\n",
        "import matplotlib.pyplot as plt\n",
        "%matplotlib inline"
      ],
      "execution_count": null,
      "outputs": []
    },
    {
      "cell_type": "markdown",
      "metadata": {
        "id": "e3t1CLg8V8r4"
      },
      "source": [
        "**Simulated short-term dynamics of response to A. fumigatus challenge in immunocompetent host with initial concentration of F given by Fo=1e6**"
      ]
    },
    {
      "cell_type": "code",
      "metadata": {
        "id": "CVrvKVfDgqbA",
        "colab": {
          "base_uri": "https://localhost:8080/",
          "height": 295
        },
        "outputId": "fbe059ce-ad6f-4836-84b8-bd88c67283ec"
      },
      "source": [
        "import numpy as np\n",
        "from scipy.integrate import odeint\n",
        "import matplotlib.pyplot as plt\n",
        "\n",
        "y0 = [1e6, 0, 0, 0]\t              #initial conditions \n",
        "t = np.linspace(0, 48, 1000)      #x-axis scale\n",
        "\n",
        "\n",
        "alpha = 0.0017                   #equation parameters \n",
        "beta = 0.28\n",
        "k_NF = 1.2e-6\n",
        "d_MF = 0.32e-6\n",
        "k_C = 0.38e-12\n",
        "k_CD = 0.31e-6\n",
        "delta_C = 0.066\n",
        "delta_N = 0.061\n",
        "alpha_D_Dv = 0.017e6\t          # alpha_D*Dv taken together\n",
        "k_ND = 0.0069e-6\n",
        "delta_D = 0.1\n",
        "\n",
        "\n",
        "params = [alpha, beta, k_NF, d_MF, k_C, k_CD, delta_C, delta_N, alpha_D_Dv, k_ND, delta_D]        #passing parameters to params\n",
        "\n",
        "def sim(variables, t, params):\n",
        "\tF = variables[0]\t\n",
        "\tC = variables[1]   \n",
        "\tN = variables[2]\n",
        "\tD = variables[3]   \n",
        "\tNv =  150e6                 # value of Nv remains constant \n",
        "                              # Dv = variable[5] taken with alpha_D  \n",
        "\tM = 0.3e6                   # value of M remains constant\n",
        "\talpha = params[0]\n",
        "\tbeta = params[1]\n",
        "\tk_NF = params[2]\n",
        "\td_MF = params[3]\n",
        "\tk_C = params[4]\n",
        "\tk_CD = params[5]\n",
        "\tdelta_C = params[6]\n",
        "\tdelta_N = params[7]\n",
        "\talpha_D_Dv = params[8]\n",
        "\tk_ND = params[9]\n",
        "\tdelta_D = params[10]\n",
        "\n",
        "\n",
        "\tdFdt = beta*F - k_NF*N*F - d_MF*M*F\n",
        "\tdCdt = k_C*M*F + k_CD*D - delta_C*C\n",
        "\tdNdt = alpha*Nv*C - k_NF*N*F - delta_N*N \n",
        "\tdDdt = alpha_D_Dv*C - k_ND*N*D - delta_D*D\n",
        "\n",
        "\treturn([dFdt, dCdt, dNdt, dDdt]) \n",
        "\n",
        "\n",
        "y = odeint(sim, y0, t, args=(params,))          # getting values of F,C,N,D\n",
        "a1 = y[:,0]                                     # a1 contains the solution of F       \n",
        "a2 = y[:,1]                                     # a2 contains the solution of C     \n",
        "a3 = y[:,2]                                     # a3 contains the solution of N     \n",
        "a4 = y[:,3]                                     # a4 contains the solution of D     \n",
        "\n",
        "plt.plot(t,a1, label = 'F', color ='blue',)      # plotting F with blue colour\n",
        "plt.plot(t,a2*1e6, color ='cyan', label = 'C')  # plotting C with cyan colour\n",
        "plt.plot(t,a3, color ='red',label = 'N')        # plotting N with red colour\n",
        "plt.plot(t,a4, color ='pink', label = 'D')      # plotting D with pink colour\n",
        "plt.yscale(\"log\",)\n",
        "plt.ylim(1e4,1e7)                               # plotting range on y-axis\n",
        "ticks1 = [0,24,48]                              # plotting interval on x-axis\n",
        "plt.xticks([0,24,48],ticks1)                    \n",
        "\n",
        "\n",
        "plt.xlabel(\"Time[h]\")\n",
        "plt.ylabel(\"Cells\")\n",
        "plt.title(\"Immunocompetent\")\n",
        "\n",
        "plt.grid()\n",
        "\n",
        "plt.show()"
      ],
      "execution_count": 4,
      "outputs": [
        {
          "output_type": "display_data",
          "data": {
            "image/png": "[encoded data removed]",
            "text/plain": [
              "<Figure size 432x288 with 1 Axes>"
            ]
          },
          "metadata": {
            "tags": [],
            "needs_background": "light"
          }
        }
      ]
    },
    {
      "cell_type": "markdown",
      "metadata": {
        "id": "GGkhoMeKnzCM"
      },
      "source": [
        "**Simulated short-term dynamics of response to A. fumigatus challenge in immunocompetent host with initial concentration of F given by Fo=1e4**"
      ]
    },
    {
      "cell_type": "code",
      "metadata": {
        "colab": {
          "base_uri": "https://localhost:8080/",
          "height": 295
        },
        "id": "vU5XdPX1oF30",
        "outputId": "8e084f0e-f0e4-4cd6-c896-93214d4f0947"
      },
      "source": [
        "import numpy as np\n",
        "from scipy.integrate import odeint\n",
        "import matplotlib.pyplot as plt\n",
        "\n",
        "y0 = [1e4, 0, 0, 0]\t              #initial conditions \n",
        "t = np.linspace(0, 72, 1000)      #x-axis scale\n",
        "\n",
        "\n",
        "alpha = 0.0017                   #equation parameters \n",
        "beta = 0.28\n",
        "k_NF = 1.2e-6\n",
        "d_MF = 0.32e-6\n",
        "k_C = 0.38e-12\n",
        "k_CD = 0.31e-6\n",
        "delta_C = 0.066\n",
        "delta_N = 0.061\n",
        "alpha_D_Dv = 0.017e6\t          # alpha_D*Dv taken together\n",
        "k_ND = 0.0069e-6\n",
        "delta_D = 0.1\n",
        "\n",
        "\n",
        "params = [alpha, beta, k_NF, d_MF, k_C, k_CD, delta_C, delta_N, alpha_D_Dv, k_ND, delta_D]        #passing parameters to params\n",
        "\n",
        "def sim(variables, t, params):\n",
        "\tF = variables[0]\t\n",
        "\tC = variables[1]   \n",
        "\tN = variables[2]\n",
        "\tD = variables[3]   \n",
        "\tNv =  150e6                 # value of Nv remains constant \n",
        "                              # Dv = variable[5] taken with alpha_D  \n",
        "\tM = 0.3e6                   # value of M remains constant\n",
        "\talpha = params[0]\n",
        "\tbeta = params[1]\n",
        "\tk_NF = params[2]\n",
        "\td_MF = params[3]\n",
        "\tk_C = params[4]\n",
        "\tk_CD = params[5]\n",
        "\tdelta_C = params[6]\n",
        "\tdelta_N = params[7]\n",
        "\talpha_D_Dv = params[8]\n",
        "\tk_ND = params[9]\n",
        "\tdelta_D = params[10]\n",
        "\n",
        "\n",
        "\tdFdt = beta*F - k_NF*N*F - d_MF*M*F\n",
        "\tdCdt = k_C*M*F + k_CD*D - delta_C*C\n",
        "\tdNdt = alpha*Nv*C - k_NF*N*F - delta_N*N \n",
        "\tdDdt = alpha_D_Dv*C - k_ND*N*D - delta_D*D\n",
        "\n",
        "\treturn([dFdt, dCdt, dNdt, dDdt]) \n",
        "\n",
        "\n",
        "y = odeint(sim, y0, t, args=(params,))          # getting values of F,C,N,D\n",
        "a1 = y[:,0]                                     # a1 contains the solution of F       \n",
        "a2 = y[:,1]                                     # a2 contains the solution of C     \n",
        "a3 = y[:,2]                                     # a3 contains the solution of N     \n",
        "a4 = y[:,3]                                     # a4 contains the solution of D     \n",
        "\n",
        "plt.plot(t,a1, label = 'F', color ='blue',)      # plotting F with blue colour\n",
        "plt.plot(t,a2*1e6, color ='cyan', label = 'C')  # plotting C with cyan colour\n",
        "plt.plot(t,a3, color ='red',label = 'N')        # plotting N with red colour\n",
        "plt.plot(t,a4, color ='pink', label = 'D')      # plotting D with pink colour\n",
        "plt.yscale(\"log\",)\n",
        "plt.ylim(1e0,1e7)                               # plotting range on y-axis\n",
        "ticks1 = [0,24,48,72]                              # plotting interval on x-axis\n",
        "plt.xticks([0,24,48,72],ticks1)                    \n",
        "\n",
        "\n",
        "plt.xlabel(\"Time[h]\")\n",
        "plt.ylabel(\"Cells\")\n",
        "plt.title(\"Immunocompetent\")\n",
        "\n",
        "plt.grid()\n",
        "\n",
        "plt.show()"
      ],
      "execution_count": null,
      "outputs": [
        {
          "output_type": "display_data",
          "data": {
            "image/png": "[encoded data removed]",
            "text/plain": [
              "<Figure size 432x288 with 1 Axes>"
            ]
          },
          "metadata": {
            "tags": [],
            "needs_background": "light"
          }
        }
      ]
    },
    {
      "cell_type": "markdown",
      "metadata": {
        "id": "ZDlyEzEXn21a"
      },
      "source": [
        "**Simulated short-term dynamics of response to A. fumigatus challenge in immunocompetent host with initial concentration of F given by Fo=1e2**"
      ]
    },
    {
      "cell_type": "code",
      "metadata": {
        "colab": {
          "base_uri": "https://localhost:8080/",
          "height": 295
        },
        "id": "S22RwkoQoms7",
        "outputId": "4197bc09-a850-4fc1-8889-6394f5240d57"
      },
      "source": [
        "import numpy as np\n",
        "from scipy.integrate import odeint\n",
        "import matplotlib.pyplot as plt\n",
        "\n",
        "y0 = [1e2, 0, 0, 0]\t              #initial conditions \n",
        "t = np.linspace(0, 72, 1000)      #x-axis scale\n",
        "\n",
        "\n",
        "alpha = 0.0017                   #equation parameters \n",
        "beta = 0.28\n",
        "k_NF = 1.2e-6\n",
        "d_MF = 0.32e-6\n",
        "k_C = 0.38e-12\n",
        "k_CD = 0.31e-6\n",
        "delta_C = 0.066\n",
        "delta_N = 0.061\n",
        "alpha_D_Dv = 0.017e6\t          # alpha_D*Dv taken together\n",
        "k_ND = 0.0069e-6\n",
        "delta_D = 0.1\n",
        "\n",
        "\n",
        "params = [alpha, beta, k_NF, d_MF, k_C, k_CD, delta_C, delta_N, alpha_D_Dv, k_ND, delta_D]        #passing parameters to params\n",
        "\n",
        "def sim(variables, t, params):\n",
        "\tF = variables[0]\t\n",
        "\tC = variables[1]   \n",
        "\tN = variables[2]\n",
        "\tD = variables[3]   \n",
        "\tNv =  150e6                 # value of Nv reamins constant \n",
        "                              # Dv = variable[5] taken with alpha_D  \n",
        "\tM = 0.3e6                   # value of M remains constant\n",
        "\talpha = params[0]\n",
        "\tbeta = params[1]\n",
        "\tk_NF = params[2]\n",
        "\td_MF = params[3]\n",
        "\tk_C = params[4]\n",
        "\tk_CD = params[5]\n",
        "\tdelta_C = params[6]\n",
        "\tdelta_N = params[7]\n",
        "\talpha_D_Dv = params[8]\n",
        "\tk_ND = params[9]\n",
        "\tdelta_D = params[10]\n",
        "\n",
        "\n",
        "\tdFdt = beta*F - k_NF*N*F - d_MF*M*F\n",
        "\tdCdt = k_C*M*F + k_CD*D - delta_C*C\n",
        "\tdNdt = alpha*Nv*C - k_NF*N*F - delta_N*N \n",
        "\tdDdt = alpha_D_Dv*C - k_ND*N*D - delta_D*D\n",
        "\n",
        "\treturn([dFdt, dCdt, dNdt, dDdt]) \n",
        "\n",
        "\n",
        "y = odeint(sim, y0, t, args=(params,))          # getting values of F,C,N,D\n",
        "a1 = y[:,0]                                     # a1 contains the solution of F       \n",
        "a2 = y[:,1]                                     # a2 contains the solution of C     \n",
        "a3 = y[:,2]                                     # a3 contains the solution of N     \n",
        "a4 = y[:,3]                                     # a4 contains the solution of D     \n",
        "\n",
        "plt.plot(t,a1, label = 'F', color ='blue',)      # plotting F with blue colour\n",
        "plt.plot(t,a2*1e6, color ='cyan', label = 'C')  # plotting C with cyan colour\n",
        "plt.plot(t,a3, color ='red',label = 'N')        # plotting N with red colour\n",
        "plt.plot(t,a4, color ='pink', label = 'D')      # plotting D with pink colour\n",
        "plt.yscale(\"log\",)\n",
        "plt.ylim(1e0,1e7)                               # plotting range on y-axis\n",
        "ticks1 = [0,24,48,72]                              # plotting interval on x-axis\n",
        "plt.xticks([0,24,48,72],ticks1)                    \n",
        "\n",
        "\n",
        "plt.xlabel(\"Time[h]\")\n",
        "plt.ylabel(\"Cells\")\n",
        "plt.title(\"Immunocompetent\")\n",
        "\n",
        "plt.grid()\n",
        "\n",
        "plt.show()"
      ],
      "execution_count": null,
      "outputs": [
        {
          "output_type": "display_data",
          "data": {
            "image/png": "[encoded data removed]",
            "text/plain": [
              "<Figure size 432x288 with 1 Axes>"
            ]
          },
          "metadata": {
            "tags": [],
            "needs_background": "light"
          }
        }
      ]
    },
    {
      "cell_type": "markdown",
      "metadata": {
        "id": "tl5nvzBQWZfU"
      },
      "source": [
        "**Simulated short-term dynamics of response to A. fumigatus challenge in neutropenic hosts with initial concentration of F given by Fo=1e6**"
      ]
    },
    {
      "cell_type": "code",
      "metadata": {
        "id": "B1TVqkMYnF99",
        "colab": {
          "base_uri": "https://localhost:8080/",
          "height": 295
        },
        "outputId": "d19f369e-da03-4457-88f8-3600c3b4a687"
      },
      "source": [
        "import numpy as np\n",
        "import matplotlib\n",
        "from scipy.integrate import odeint\n",
        "matplotlib.use('tkagg')\n",
        "import matplotlib.pyplot as plt\n",
        "\n",
        "y0 = [1e6, 0, 0, 0]\t\n",
        "t = np.linspace(0, 48, 1000)\n",
        "alpha = 0.0017\n",
        "beta = 0.28\n",
        "k_NF = 1.2e-6\n",
        "d_MF = 0.32e-6\n",
        "k_C = 0.38e-12\n",
        "k_CD = 0.31e-6\n",
        "delta_C = 0.066\n",
        "delta_N = 0.061\n",
        "alpha_D_Dv = 0.017e6\t      # Dv is included in alpha_D*Dv\n",
        "k_ND = 0.0069e-6\n",
        "delta_D = 0.1\n",
        "\n",
        "\n",
        "params = [alpha, beta, k_NF, d_MF, k_C, k_CD, delta_C, delta_N, alpha_D_Dv, k_ND, delta_D]\n",
        "\n",
        "def sim(variables, t, params):\n",
        "\tF = variables[0]\t\n",
        "\tC = variables[1]    \n",
        "\tN = variables[2]\n",
        "\tD = variables[3]    \n",
        "\tNv =  150e6*0.1            \n",
        "        # Dv = variable[5] taken with alpha_D  \n",
        "\tM = 0.3e6      \n",
        "\n",
        "\talpha = params[0]\n",
        "\tbeta = params[1]\n",
        "\tk_NF = params[2]\n",
        "\td_MF = params[3]\n",
        "\tk_C = params[4]\n",
        "\tk_CD = params[5]\n",
        "\tdelta_C = params[6]\n",
        "\tdelta_N = params[7]\n",
        "\talpha_D_Dv = params[8]\n",
        "\tk_ND = params[9]\n",
        "\tdelta_D = params[10]\n",
        "\n",
        "\n",
        "\tdFdt = beta*F - k_NF*N*F - d_MF*M*F\n",
        "\tdCdt = k_C*M*F + k_CD*D - delta_C*C\n",
        "\tdNdt = alpha*Nv*C - k_NF*N*F - delta_N*N \n",
        "\tdDdt = alpha_D_Dv*C - k_ND*N*D - delta_D*D\n",
        "\n",
        "\treturn([dFdt, dCdt, dNdt, dDdt]) \n",
        "\n",
        "y = odeint(sim, y0, t, args=(params,))          # getting values of F,C,N,D\n",
        "a1 = y[:,0]                                     # a1 contains the solution of F       \n",
        "a2 = y[:,1]                                     # a2 contains the solution of C     \n",
        "a3 = y[:,2]                                     # a3 contains the solution of N     \n",
        "a4 = y[:,3]                                     # a4 contains the solution of D     \n",
        "\n",
        "plt.plot(t,a1, label = 'F', color ='blue',)      # plotting F with blue colour\n",
        "plt.plot(t,a2*1e6, color ='cyan', label = 'C')  # plotting C with cyan colour\n",
        "plt.plot(t,a3, color ='red',label = 'N')        # plotting N with red colour\n",
        "plt.plot(t,a4, color ='pink', label = 'D')      # plotting D with pink colour\n",
        "plt.yscale(\"log\",)\n",
        "plt.ylim(1e4,1e7)                               # plotting range on y-axis\n",
        "ticks1 = [0,24,48]                              # plotting interval on x-axis\n",
        "plt.xticks([0,24,48],ticks1)     \n",
        "\n",
        "\n",
        "plt.xlabel(\"Time[h]\")\n",
        "plt.ylabel(\"Cells\")\n",
        "plt.title(\"Neutropenic\")\n",
        "\n",
        "plt.grid()\n",
        "\n",
        "plt.show()"
      ],
      "execution_count": null,
      "outputs": [
        {
          "output_type": "display_data",
          "data": {
            "image/png": "[encoded data removed]",
            "text/plain": [
              "<Figure size 432x288 with 1 Axes>"
            ]
          },
          "metadata": {
            "tags": [],
            "needs_background": "light"
          }
        }
      ]
    },
    {
      "cell_type": "markdown",
      "metadata": {
        "id": "xJs7eybkXKJf"
      },
      "source": [
        "**Timing-dependent effects of neutrophil depletion on fungal clearance time for immunocompetent host**\n"
      ]
    },
    {
      "cell_type": "code",
      "metadata": {
        "id": "7-Lx1H5oFPH5",
        "colab": {
          "base_uri": "https://localhost:8080/",
          "height": 295
        },
        "outputId": "01c2a2a0-36d7-4b76-df99-d80dfba76f52"
      },
      "source": [
        "import numpy as np\n",
        "import matplotlib\n",
        "from scipy.integrate import odeint\n",
        "import matplotlib.pyplot as plt\n",
        "y0 = [1e6, 0, 0, 0]\t              #initial conditions \n",
        "\n",
        "t1 = np.linspace(0, 21, 1000)\n",
        "t2 = np.linspace(21, 48, 1000)\n",
        "alpha = 0.0017                   #equation parameters \n",
        "beta = 0.28\n",
        "k_NF = 1.2e-6\n",
        "d_MF = 0.32e-6\n",
        "k_C = 0.38e-12\n",
        "k_CD = 0.31e-6\n",
        "delta_C = 0.066\n",
        "delta_N = 0.061\n",
        "alpha_D_Dv = 0.017e6\t          # alpha_D*Dv taken together\n",
        "k_ND = 0.0069e-6\n",
        "delta_D = 0.1\n",
        "\n",
        "\n",
        "params = [alpha, beta, k_NF, d_MF, k_C, k_CD, delta_C, delta_N, alpha_D_Dv, k_ND, delta_D]  #passing parameters to param\n",
        "\n",
        "#for generating solution for the ODES for time interval 0 to 21\n",
        "def sim1(variables, t, params):\n",
        "\t\n",
        "  F = variables[0]\n",
        "  C = variables[1]\n",
        "  N = variables[2]\n",
        "  D = variables[3]\n",
        "  M = 0.3e6                     # M remains constant\n",
        "  Nv = 150e6\n",
        "  alpha = params[0]\n",
        "  beta = params[1]\n",
        "  k_NF = params[2]\n",
        "  d_MF = params[3]\n",
        "  k_C = params[4]\n",
        "  k_CD = params[5]\n",
        "  delta_C = params[6]\n",
        "  delta_N = params[7]\n",
        "  alpha_D_Dv = params[8]\n",
        "  k_ND = params[9]\n",
        "  delta_D = params[10]\n",
        "\n",
        "\n",
        "  dFdt = beta*F - k_NF*N*F - d_MF*M*F\n",
        "  dCdt = k_C*M*F + k_CD*D - delta_C*C\n",
        "  dNdt = alpha*Nv*C - k_NF*N*F - delta_N*N \n",
        "  dDdt = alpha_D_Dv*C - k_ND*N*D - delta_D*D\n",
        "\n",
        "  return([dFdt, dCdt, dNdt, dDdt]) \n",
        "# for generating solution for time interval 21 to 48\n",
        "def sim2(variables, t, params):\n",
        "\tF = variables[0]\t\n",
        "\tC = variables[1]    \n",
        "\tN = variables[2]\n",
        "\tD = variables[3]\n",
        "\tM = 0.3e6         # M remains constant\n",
        "\tNv = 15e6         # due to 90% Nv depletion after 20hours post-inoculation  \n",
        "\talpha = params[0]\n",
        "\tbeta = params[1]\n",
        "\tk_NF = params[2]\n",
        "\td_MF = params[3]\n",
        "\tk_C = params[4]\n",
        "\tk_CD = params[5]\n",
        "\tdelta_C = params[6]\n",
        "\tdelta_N = params[7]\n",
        "\talpha_D_Dv = params[8]\n",
        "\tk_ND = params[9]\n",
        "\tdelta_D = params[10]\n",
        "\n",
        "\n",
        "\tdFdt = beta*F - k_NF*N*F - d_MF*M*F\n",
        "\tdCdt = k_C*M*F + k_CD*D - delta_C*C\n",
        "\tdNdt = alpha*Nv*C - k_NF*N*F - delta_N*N \n",
        "\tdDdt = alpha_D_Dv*C - k_ND*N*D - delta_D*D\n",
        "\n",
        "\treturn([dFdt, dCdt, dNdt, dDdt]) \n",
        "\n",
        "\n",
        "y1 = odeint(sim1, y0, t1, args=(params,))           # getting values of F,C,N,D from time interval 0 to 21\n",
        "y2 = odeint(sim2, y1[-1], t2, args=(params,))       # getting values of F,C,N,D from time interval 21 to 48\n",
        "\n",
        "a1 = list(y1[:,0])+list(y2[:,0])                    # merging the values obtained from two intervals for F\n",
        "a1 = np.asarray(a1, dtype=np.float32)\n",
        "\n",
        "a2 = list(y1[:,1])+list(y2[:,1])                    # merging the values obtained from two intervals for C\n",
        "a2 = np.asarray(a2, dtype=np.float32)\n",
        "\n",
        "a3 = list(y1[:,2])+list(y2[:,2])                    # merging the values obtained from two intervals for N\n",
        "a3 = np.asarray(a3, dtype=np.float32)\n",
        "\n",
        "a4 = list(y1[:,3])+list(y2[:,3])                    # merging the values obtained from two intervals for D\n",
        "a4 = np.asarray(a4, dtype=np.float32)\n",
        "\n",
        "\n",
        "t = list(t1)+list(t2)                             # combinig time intervals\n",
        "#print((y1[:,0]),(a1))\n",
        "plt.plot(t,a1, label = 'F', color ='blue',)      # plotting F with blue colour\n",
        "plt.plot(t,a2*1e6, color ='cyan', label = 'C')  # plotting C with cyan colour\n",
        "plt.plot(t,a3, color ='red',label = 'N')        # plotting N with red colour\n",
        "plt.plot(t,a4, color ='pink', label = 'D')      # plotting D with pink colour\n",
        "plt.yscale(\"log\",)\n",
        "plt.ylim(1e4,1e7)                               # plotting range on y-axis\n",
        "ticks1 = [0,24,48]                              # plotting interval on x-axis\n",
        "plt.xticks([0,24,48],ticks1) \n",
        "\n",
        "\n",
        "plt.xlabel(\"Time[h]\")\n",
        "plt.ylabel(\"Cells\")\n",
        "plt.title(\"Immunocompetent\")\n",
        "\n",
        "plt.grid()\n",
        "\n",
        "plt.show()"
      ],
      "execution_count": null,
      "outputs": [
        {
          "output_type": "display_data",
          "data": {
            "image/png": "[encoded data removed]",
            "text/plain": [
              "<Figure size 432x288 with 1 Axes>"
            ]
          },
          "metadata": {
            "tags": [],
            "needs_background": "light"
          }
        }
      ]
    },
    {
      "cell_type": "markdown",
      "metadata": {
        "id": "NTbnIGinWw55"
      },
      "source": [
        "**Timing-dependent effects of neutrophil depletion on fungal clearance time for neutropenic host**\n"
      ]
    },
    {
      "cell_type": "code",
      "metadata": {
        "id": "pNcTYhBFIrZJ",
        "colab": {
          "base_uri": "https://localhost:8080/",
          "height": 295
        },
        "outputId": "03a6b848-f48b-47df-f675-6465bfa43bc2"
      },
      "source": [
        "import numpy as np\n",
        "import matplotlib\n",
        "from scipy.integrate import odeint\n",
        "import matplotlib.pyplot as plt\n",
        "y0 = [1e6, 0, 0, 0]\t              #initial conditions \n",
        "\n",
        "t1 = np.linspace(0, 21, 1000)\n",
        "t2 = np.linspace(21, 48, 1000)\n",
        "alpha = 0.0017                   #equation parameters \n",
        "beta = 0.28\n",
        "k_NF = 1.2e-6\n",
        "d_MF = 0.32e-6\n",
        "k_C = 0.38e-12\n",
        "k_CD = 0.31e-6\n",
        "delta_C = 0.066\n",
        "delta_N = 0.061\n",
        "alpha_D_Dv = 0.017e6\t          # alpha_D*Dv taken together\n",
        "k_ND = 0.0069e-6\n",
        "delta_D = 0.1\n",
        "\n",
        "\n",
        "params = [alpha, beta, k_NF, d_MF, k_C, k_CD, delta_C, delta_N, alpha_D_Dv, k_ND, delta_D]  #passing parameters to param\n",
        "\n",
        "#for generating solution for the ODES for time interval 0 to 21\n",
        "def sim1(variables, t, params):\n",
        "\t\n",
        "  F = variables[0]\n",
        "  C = variables[1]\n",
        "  N = variables[2]\n",
        "  D = variables[3]\n",
        "  M = 0.3e6                     # M remains constant\n",
        "  Nv = 15e6 # due to 90% Nv depletion at 0h\n",
        "  alpha = params[0]\n",
        "  beta = params[1]\n",
        "  k_NF = params[2]\n",
        "  d_MF = params[3]\n",
        "  k_C = params[4]\n",
        "  k_CD = params[5]\n",
        "  delta_C = params[6]\n",
        "  delta_N = params[7]\n",
        "  alpha_D_Dv = params[8]\n",
        "  k_ND = params[9]\n",
        "  delta_D = params[10]\n",
        "\n",
        "\n",
        "  dFdt = beta*F - k_NF*N*F - d_MF*M*F\n",
        "  dCdt = k_C*M*F + k_CD*D - delta_C*C\n",
        "  dNdt = alpha*Nv*C - k_NF*N*F - delta_N*N \n",
        "  dDdt = alpha_D_Dv*C - k_ND*N*D - delta_D*D\n",
        "\n",
        "  return([dFdt, dCdt, dNdt, dDdt]) \n",
        "# for generating solution for time interval 21 to 48\n",
        "def sim2(variables, t, params):\n",
        "\tF = variables[0]\t\n",
        "\tC = variables[1]    \n",
        "\tN = variables[2]\n",
        "\tD = variables[3]\n",
        "\tM = 0.3e6 # M remains constant\n",
        "\tNv = 15e6   \n",
        "\talpha = params[0]\n",
        "\tbeta = params[1]\n",
        "\tk_NF = params[2]\n",
        "\td_MF = params[3]\n",
        "\tk_C = params[4]\n",
        "\tk_CD = params[5]\n",
        "\tdelta_C = params[6]\n",
        "\tdelta_N = params[7]\n",
        "\talpha_D_Dv = params[8]\n",
        "\tk_ND = params[9]\n",
        "\tdelta_D = params[10]\n",
        "\n",
        "\n",
        "\tdFdt = beta*F - k_NF*N*F - d_MF*M*F\n",
        "\tdCdt = k_C*M*F + k_CD*D - delta_C*C\n",
        "\tdNdt = alpha*Nv*C - k_NF*N*F - delta_N*N \n",
        "\tdDdt = alpha_D_Dv*C - k_ND*N*D - delta_D*D\n",
        "\n",
        "\treturn([dFdt, dCdt, dNdt, dDdt]) \n",
        "\n",
        "\n",
        "y1 = odeint(sim1, y0, t1, args=(params,))           # getting values of F,C,N,D from time interval 0 to 21\n",
        "y2 = odeint(sim2, y1[-1], t2, args=(params,))       # getting values of F,C,N,D from time interval 21 to 48\n",
        "\n",
        "a1 = list(y1[:,0])+list(y2[:,0])                    # merging the values obtained from two intervals for F\n",
        "a1 = np.asarray(a1, dtype=np.float32)\n",
        "\n",
        "a2 = list(y1[:,1])+list(y2[:,1])                    # merging the values obtained from two intervals for C\n",
        "a2 = np.asarray(a2, dtype=np.float32)\n",
        "\n",
        "a3 = list(y1[:,2])+list(y2[:,2])                    # merging the values obtained from two intervals for N\n",
        "a3 = np.asarray(a3, dtype=np.float32)\n",
        "\n",
        "a4 = list(y1[:,3])+list(y2[:,3])                    # merging the values obtained from two intervals for D\n",
        "a4 = np.asarray(a4, dtype=np.float32)\n",
        "\n",
        "\n",
        "t = list(t1)+list(t2)                             # combinig time intervals\n",
        "#print((y1[:,0]),(a1))\n",
        "plt.plot(t,a1, label = 'F', color ='blue',)      # plotting F with blue colour\n",
        "plt.plot(t,a2*1e6, color ='cyan', label = 'C')  # plotting C with cyan colour\n",
        "plt.plot(t,a3, color ='red',label = 'N')        # plotting N with red colour\n",
        "plt.plot(t,a4, color ='pink', label = 'D')      # plotting D with pink colour\n",
        "plt.yscale(\"log\",)\n",
        "plt.ylim(1e4,1e7)                               # plotting range on y-axis\n",
        "ticks1 = [0,24,48]                              # plotting interval on x-axis\n",
        "plt.xticks([0,24,48],ticks1) \n",
        "\n",
        "\n",
        "plt.xlabel(\"Time[h]\")\n",
        "plt.ylabel(\"Cells\")\n",
        "plt.title(\"Neutropenic\")\n",
        "\n",
        "plt.grid()\n",
        "\n",
        "plt.show()"
      ],
      "execution_count": null,
      "outputs": [
        {
          "output_type": "display_data",
          "data": {
            "image/png": "[encoded data removed]",
            "text/plain": [
              "<Figure size 432x288 with 1 Axes>"
            ]
          },
          "metadata": {
            "tags": [],
            "needs_background": "light"
          }
        }
      ]
    },
    {
      "cell_type": "code",
      "metadata": {
        "id": "zq_HEiGJMNn7"
      },
      "source": [
        ""
      ],
      "execution_count": null,
      "outputs": []
    }
  ]
}